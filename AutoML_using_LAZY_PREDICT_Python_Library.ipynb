{
  "nbformat": 4,
  "nbformat_minor": 0,
  "metadata": {
    "colab": {
      "name": "AutoML using LAZY PREDICT Python Library",
      "provenance": [],
      "authorship_tag": "ABX9TyNdDpiG+AjyL9A2uI5SH6XR",
      "include_colab_link": true
    },
    "kernelspec": {
      "name": "python3",
      "display_name": "Python 3"
    },
    "language_info": {
      "name": "python"
    }
  },
  "cells": [
    {
      "cell_type": "markdown",
      "metadata": {
        "id": "view-in-github",
        "colab_type": "text"
      },
      "source": [
        "<a href=\"https://colab.research.google.com/github/IshanSingh611/Auto-ML-using-Lazy-Predict/blob/main/AutoML_using_LAZY_PREDICT_Python_Library.ipynb\" target=\"_parent\"><img src=\"https://colab.research.google.com/assets/colab-badge.svg\" alt=\"Open In Colab\"/></a>"
      ]
    },
    {
      "cell_type": "code",
      "metadata": {
        "colab": {
          "base_uri": "https://localhost:8080/"
        },
        "id": "YpHgAjmw_rUY",
        "outputId": "b2b3f288-03a8-438b-f200-6696ad4682e1"
      },
      "source": [
        "! pip install lazypredict"
      ],
      "execution_count": null,
      "outputs": [
        {
          "output_type": "stream",
          "text": [
            "Requirement already satisfied: lazypredict in /usr/local/lib/python3.7/dist-packages (0.2.9)\n",
            "Requirement already satisfied: xgboost==1.1.1 in /usr/local/lib/python3.7/dist-packages (from lazypredict) (1.1.1)\n",
            "Requirement already satisfied: tqdm==4.56.0 in /usr/local/lib/python3.7/dist-packages (from lazypredict) (4.56.0)\n",
            "Requirement already satisfied: numpy==1.19.1 in /usr/local/lib/python3.7/dist-packages (from lazypredict) (1.19.1)\n",
            "Requirement already satisfied: PyYAML==5.3.1 in /usr/local/lib/python3.7/dist-packages (from lazypredict) (5.3.1)\n",
            "Requirement already satisfied: joblib==1.0.0 in /usr/local/lib/python3.7/dist-packages (from lazypredict) (1.0.0)\n",
            "Requirement already satisfied: six==1.15.0 in /usr/local/lib/python3.7/dist-packages (from lazypredict) (1.15.0)\n",
            "Requirement already satisfied: pytest==5.4.3 in /usr/local/lib/python3.7/dist-packages (from lazypredict) (5.4.3)\n",
            "Requirement already satisfied: click==7.1.2 in /usr/local/lib/python3.7/dist-packages (from lazypredict) (7.1.2)\n",
            "Requirement already satisfied: scikit-learn==0.23.1 in /usr/local/lib/python3.7/dist-packages (from lazypredict) (0.23.1)\n",
            "Requirement already satisfied: scipy==1.5.4 in /usr/local/lib/python3.7/dist-packages (from lazypredict) (1.5.4)\n",
            "Requirement already satisfied: pandas==1.0.5 in /usr/local/lib/python3.7/dist-packages (from lazypredict) (1.0.5)\n",
            "Requirement already satisfied: lightgbm==2.3.1 in /usr/local/lib/python3.7/dist-packages (from lazypredict) (2.3.1)\n",
            "Requirement already satisfied: packaging in /usr/local/lib/python3.7/dist-packages (from pytest==5.4.3->lazypredict) (20.9)\n",
            "Requirement already satisfied: importlib-metadata>=0.12; python_version < \"3.8\" in /usr/local/lib/python3.7/dist-packages (from pytest==5.4.3->lazypredict) (4.0.1)\n",
            "Requirement already satisfied: more-itertools>=4.0.0 in /usr/local/lib/python3.7/dist-packages (from pytest==5.4.3->lazypredict) (8.7.0)\n",
            "Requirement already satisfied: py>=1.5.0 in /usr/local/lib/python3.7/dist-packages (from pytest==5.4.3->lazypredict) (1.10.0)\n",
            "Requirement already satisfied: pluggy<1.0,>=0.12 in /usr/local/lib/python3.7/dist-packages (from pytest==5.4.3->lazypredict) (0.13.1)\n",
            "Requirement already satisfied: wcwidth in /usr/local/lib/python3.7/dist-packages (from pytest==5.4.3->lazypredict) (0.2.5)\n",
            "Requirement already satisfied: attrs>=17.4.0 in /usr/local/lib/python3.7/dist-packages (from pytest==5.4.3->lazypredict) (21.2.0)\n",
            "Requirement already satisfied: threadpoolctl>=2.0.0 in /usr/local/lib/python3.7/dist-packages (from scikit-learn==0.23.1->lazypredict) (2.1.0)\n",
            "Requirement already satisfied: python-dateutil>=2.6.1 in /usr/local/lib/python3.7/dist-packages (from pandas==1.0.5->lazypredict) (2.8.1)\n",
            "Requirement already satisfied: pytz>=2017.2 in /usr/local/lib/python3.7/dist-packages (from pandas==1.0.5->lazypredict) (2018.9)\n",
            "Requirement already satisfied: pyparsing>=2.0.2 in /usr/local/lib/python3.7/dist-packages (from packaging->pytest==5.4.3->lazypredict) (2.4.7)\n",
            "Requirement already satisfied: typing-extensions>=3.6.4; python_version < \"3.8\" in /usr/local/lib/python3.7/dist-packages (from importlib-metadata>=0.12; python_version < \"3.8\"->pytest==5.4.3->lazypredict) (3.7.4.3)\n",
            "Requirement already satisfied: zipp>=0.5 in /usr/local/lib/python3.7/dist-packages (from importlib-metadata>=0.12; python_version < \"3.8\"->pytest==5.4.3->lazypredict) (3.4.1)\n"
          ],
          "name": "stdout"
        }
      ]
    },
    {
      "cell_type": "code",
      "metadata": {
        "id": "ywS-Bot5KSv1"
      },
      "source": [
        "import numpy as np\n",
        "import pandas as pd\n",
        "from lazypredict.Supervised import LazyRegressor,LazyClassifier\n",
        "from sklearn.model_selection import train_test_split\n"
      ],
      "execution_count": null,
      "outputs": []
    },
    {
      "cell_type": "code",
      "metadata": {
        "id": "cAZl7NjEK99S"
      },
      "source": [
        "df = pd.read_csv('advertising.csv')"
      ],
      "execution_count": null,
      "outputs": []
    },
    {
      "cell_type": "code",
      "metadata": {
        "colab": {
          "base_uri": "https://localhost:8080/",
          "height": 204
        },
        "id": "Q0XAyRxnLDCn",
        "outputId": "db3af3ce-dca0-453c-8e6e-a5baef382c64"
      },
      "source": [
        "df.head()"
      ],
      "execution_count": null,
      "outputs": [
        {
          "output_type": "execute_result",
          "data": {
            "text/html": [
              "<div>\n",
              "<style scoped>\n",
              "    .dataframe tbody tr th:only-of-type {\n",
              "        vertical-align: middle;\n",
              "    }\n",
              "\n",
              "    .dataframe tbody tr th {\n",
              "        vertical-align: top;\n",
              "    }\n",
              "\n",
              "    .dataframe thead th {\n",
              "        text-align: right;\n",
              "    }\n",
              "</style>\n",
              "<table border=\"1\" class=\"dataframe\">\n",
              "  <thead>\n",
              "    <tr style=\"text-align: right;\">\n",
              "      <th></th>\n",
              "      <th>TV</th>\n",
              "      <th>Radio</th>\n",
              "      <th>Newspaper</th>\n",
              "      <th>Sales</th>\n",
              "    </tr>\n",
              "  </thead>\n",
              "  <tbody>\n",
              "    <tr>\n",
              "      <th>0</th>\n",
              "      <td>230.10</td>\n",
              "      <td>37.80</td>\n",
              "      <td>69.20</td>\n",
              "      <td>22.10</td>\n",
              "    </tr>\n",
              "    <tr>\n",
              "      <th>1</th>\n",
              "      <td>44.50</td>\n",
              "      <td>39.30</td>\n",
              "      <td>45.10</td>\n",
              "      <td>10.40</td>\n",
              "    </tr>\n",
              "    <tr>\n",
              "      <th>2</th>\n",
              "      <td>17.20</td>\n",
              "      <td>45.90</td>\n",
              "      <td>69.30</td>\n",
              "      <td>12.00</td>\n",
              "    </tr>\n",
              "    <tr>\n",
              "      <th>3</th>\n",
              "      <td>151.50</td>\n",
              "      <td>41.30</td>\n",
              "      <td>58.50</td>\n",
              "      <td>16.50</td>\n",
              "    </tr>\n",
              "    <tr>\n",
              "      <th>4</th>\n",
              "      <td>180.80</td>\n",
              "      <td>10.80</td>\n",
              "      <td>58.40</td>\n",
              "      <td>17.90</td>\n",
              "    </tr>\n",
              "  </tbody>\n",
              "</table>\n",
              "</div>"
            ],
            "text/plain": [
              "      TV  Radio  Newspaper  Sales\n",
              "0 230.10  37.80      69.20  22.10\n",
              "1  44.50  39.30      45.10  10.40\n",
              "2  17.20  45.90      69.30  12.00\n",
              "3 151.50  41.30      58.50  16.50\n",
              "4 180.80  10.80      58.40  17.90"
            ]
          },
          "metadata": {
            "tags": []
          },
          "execution_count": 4
        }
      ]
    },
    {
      "cell_type": "code",
      "metadata": {
        "id": "vstQeix0LFnP"
      },
      "source": [
        "y = df.pop('Sales')\n",
        "X = df"
      ],
      "execution_count": null,
      "outputs": []
    },
    {
      "cell_type": "code",
      "metadata": {
        "colab": {
          "base_uri": "https://localhost:8080/"
        },
        "id": "Xp30ivmTLadJ",
        "outputId": "1939a7a1-3946-40d2-adab-872165fc61b8"
      },
      "source": [
        "y.head()"
      ],
      "execution_count": null,
      "outputs": [
        {
          "output_type": "execute_result",
          "data": {
            "text/plain": [
              "0   22.10\n",
              "1   10.40\n",
              "2   12.00\n",
              "3   16.50\n",
              "4   17.90\n",
              "Name: Sales, dtype: float64"
            ]
          },
          "metadata": {
            "tags": []
          },
          "execution_count": 6
        }
      ]
    },
    {
      "cell_type": "code",
      "metadata": {
        "colab": {
          "base_uri": "https://localhost:8080/",
          "height": 204
        },
        "id": "8FhG8F-JLePY",
        "outputId": "b72d58a5-d13e-4450-ace7-a0056fd476f1"
      },
      "source": [
        "X.head()"
      ],
      "execution_count": null,
      "outputs": [
        {
          "output_type": "execute_result",
          "data": {
            "text/html": [
              "<div>\n",
              "<style scoped>\n",
              "    .dataframe tbody tr th:only-of-type {\n",
              "        vertical-align: middle;\n",
              "    }\n",
              "\n",
              "    .dataframe tbody tr th {\n",
              "        vertical-align: top;\n",
              "    }\n",
              "\n",
              "    .dataframe thead th {\n",
              "        text-align: right;\n",
              "    }\n",
              "</style>\n",
              "<table border=\"1\" class=\"dataframe\">\n",
              "  <thead>\n",
              "    <tr style=\"text-align: right;\">\n",
              "      <th></th>\n",
              "      <th>TV</th>\n",
              "      <th>Radio</th>\n",
              "      <th>Newspaper</th>\n",
              "    </tr>\n",
              "  </thead>\n",
              "  <tbody>\n",
              "    <tr>\n",
              "      <th>0</th>\n",
              "      <td>230.10</td>\n",
              "      <td>37.80</td>\n",
              "      <td>69.20</td>\n",
              "    </tr>\n",
              "    <tr>\n",
              "      <th>1</th>\n",
              "      <td>44.50</td>\n",
              "      <td>39.30</td>\n",
              "      <td>45.10</td>\n",
              "    </tr>\n",
              "    <tr>\n",
              "      <th>2</th>\n",
              "      <td>17.20</td>\n",
              "      <td>45.90</td>\n",
              "      <td>69.30</td>\n",
              "    </tr>\n",
              "    <tr>\n",
              "      <th>3</th>\n",
              "      <td>151.50</td>\n",
              "      <td>41.30</td>\n",
              "      <td>58.50</td>\n",
              "    </tr>\n",
              "    <tr>\n",
              "      <th>4</th>\n",
              "      <td>180.80</td>\n",
              "      <td>10.80</td>\n",
              "      <td>58.40</td>\n",
              "    </tr>\n",
              "  </tbody>\n",
              "</table>\n",
              "</div>"
            ],
            "text/plain": [
              "      TV  Radio  Newspaper\n",
              "0 230.10  37.80      69.20\n",
              "1  44.50  39.30      45.10\n",
              "2  17.20  45.90      69.30\n",
              "3 151.50  41.30      58.50\n",
              "4 180.80  10.80      58.40"
            ]
          },
          "metadata": {
            "tags": []
          },
          "execution_count": 7
        }
      ]
    },
    {
      "cell_type": "code",
      "metadata": {
        "id": "jiz0zWtnLgNi"
      },
      "source": [
        "X_train,X_test,y_train,y_test=train_test_split(X,y,test_size=0.2,random_state=42)"
      ],
      "execution_count": null,
      "outputs": []
    },
    {
      "cell_type": "code",
      "metadata": {
        "id": "QeqlhRvOLsiJ"
      },
      "source": [
        "reg = LazyRegressor(verbose=0,ignore_warnings=True,custom_metric=None,predictions=True)"
      ],
      "execution_count": null,
      "outputs": []
    },
    {
      "cell_type": "code",
      "metadata": {
        "colab": {
          "base_uri": "https://localhost:8080/"
        },
        "id": "i9k9s-vQMCvG",
        "outputId": "39fb4436-6c71-498d-ceea-e4b508cf375c"
      },
      "source": [
        "models,pred= reg.fit(X_train,X_test,y_train,y_test)"
      ],
      "execution_count": null,
      "outputs": [
        {
          "output_type": "stream",
          "text": [
            "100%|██████████| 42/42 [00:02<00:00, 19.93it/s]\n"
          ],
          "name": "stderr"
        }
      ]
    },
    {
      "cell_type": "code",
      "metadata": {
        "colab": {
          "base_uri": "https://localhost:8080/",
          "height": 1000
        },
        "id": "unCC8AmUMOCv",
        "outputId": "3e59423e-3d30-4738-8537-df14de28fbf1"
      },
      "source": [
        "models"
      ],
      "execution_count": null,
      "outputs": [
        {
          "output_type": "execute_result",
          "data": {
            "text/html": [
              "<div>\n",
              "<style scoped>\n",
              "    .dataframe tbody tr th:only-of-type {\n",
              "        vertical-align: middle;\n",
              "    }\n",
              "\n",
              "    .dataframe tbody tr th {\n",
              "        vertical-align: top;\n",
              "    }\n",
              "\n",
              "    .dataframe thead th {\n",
              "        text-align: right;\n",
              "    }\n",
              "</style>\n",
              "<table border=\"1\" class=\"dataframe\">\n",
              "  <thead>\n",
              "    <tr style=\"text-align: right;\">\n",
              "      <th></th>\n",
              "      <th>Adjusted R-Squared</th>\n",
              "      <th>R-Squared</th>\n",
              "      <th>RMSE</th>\n",
              "      <th>Time Taken</th>\n",
              "    </tr>\n",
              "    <tr>\n",
              "      <th>Model</th>\n",
              "      <th></th>\n",
              "      <th></th>\n",
              "      <th></th>\n",
              "      <th></th>\n",
              "    </tr>\n",
              "  </thead>\n",
              "  <tbody>\n",
              "    <tr>\n",
              "      <th>ExtraTreesRegressor</th>\n",
              "      <td>0.96</td>\n",
              "      <td>0.96</td>\n",
              "      <td>1.10</td>\n",
              "      <td>0.15</td>\n",
              "    </tr>\n",
              "    <tr>\n",
              "      <th>GradientBoostingRegressor</th>\n",
              "      <td>0.96</td>\n",
              "      <td>0.96</td>\n",
              "      <td>1.13</td>\n",
              "      <td>0.07</td>\n",
              "    </tr>\n",
              "    <tr>\n",
              "      <th>RandomForestRegressor</th>\n",
              "      <td>0.95</td>\n",
              "      <td>0.95</td>\n",
              "      <td>1.20</td>\n",
              "      <td>0.20</td>\n",
              "    </tr>\n",
              "    <tr>\n",
              "      <th>XGBRegressor</th>\n",
              "      <td>0.95</td>\n",
              "      <td>0.95</td>\n",
              "      <td>1.21</td>\n",
              "      <td>0.15</td>\n",
              "    </tr>\n",
              "    <tr>\n",
              "      <th>BaggingRegressor</th>\n",
              "      <td>0.94</td>\n",
              "      <td>0.94</td>\n",
              "      <td>1.30</td>\n",
              "      <td>0.03</td>\n",
              "    </tr>\n",
              "    <tr>\n",
              "      <th>AdaBoostRegressor</th>\n",
              "      <td>0.94</td>\n",
              "      <td>0.94</td>\n",
              "      <td>1.34</td>\n",
              "      <td>0.09</td>\n",
              "    </tr>\n",
              "    <tr>\n",
              "      <th>LGBMRegressor</th>\n",
              "      <td>0.93</td>\n",
              "      <td>0.94</td>\n",
              "      <td>1.37</td>\n",
              "      <td>0.07</td>\n",
              "    </tr>\n",
              "    <tr>\n",
              "      <th>HistGradientBoostingRegressor</th>\n",
              "      <td>0.93</td>\n",
              "      <td>0.94</td>\n",
              "      <td>1.39</td>\n",
              "      <td>0.11</td>\n",
              "    </tr>\n",
              "    <tr>\n",
              "      <th>LinearSVR</th>\n",
              "      <td>0.90</td>\n",
              "      <td>0.91</td>\n",
              "      <td>1.66</td>\n",
              "      <td>0.01</td>\n",
              "    </tr>\n",
              "    <tr>\n",
              "      <th>HuberRegressor</th>\n",
              "      <td>0.90</td>\n",
              "      <td>0.91</td>\n",
              "      <td>1.67</td>\n",
              "      <td>0.02</td>\n",
              "    </tr>\n",
              "    <tr>\n",
              "      <th>OrthogonalMatchingPursuitCV</th>\n",
              "      <td>0.90</td>\n",
              "      <td>0.91</td>\n",
              "      <td>1.69</td>\n",
              "      <td>0.04</td>\n",
              "    </tr>\n",
              "    <tr>\n",
              "      <th>SGDRegressor</th>\n",
              "      <td>0.90</td>\n",
              "      <td>0.91</td>\n",
              "      <td>1.70</td>\n",
              "      <td>0.01</td>\n",
              "    </tr>\n",
              "    <tr>\n",
              "      <th>LassoCV</th>\n",
              "      <td>0.90</td>\n",
              "      <td>0.91</td>\n",
              "      <td>1.71</td>\n",
              "      <td>0.07</td>\n",
              "    </tr>\n",
              "    <tr>\n",
              "      <th>ExtraTreeRegressor</th>\n",
              "      <td>0.90</td>\n",
              "      <td>0.91</td>\n",
              "      <td>1.71</td>\n",
              "      <td>0.01</td>\n",
              "    </tr>\n",
              "    <tr>\n",
              "      <th>LarsCV</th>\n",
              "      <td>0.90</td>\n",
              "      <td>0.91</td>\n",
              "      <td>1.71</td>\n",
              "      <td>0.05</td>\n",
              "    </tr>\n",
              "    <tr>\n",
              "      <th>TransformedTargetRegressor</th>\n",
              "      <td>0.90</td>\n",
              "      <td>0.91</td>\n",
              "      <td>1.71</td>\n",
              "      <td>0.01</td>\n",
              "    </tr>\n",
              "    <tr>\n",
              "      <th>LassoLarsCV</th>\n",
              "      <td>0.90</td>\n",
              "      <td>0.91</td>\n",
              "      <td>1.71</td>\n",
              "      <td>0.02</td>\n",
              "    </tr>\n",
              "    <tr>\n",
              "      <th>LinearRegression</th>\n",
              "      <td>0.90</td>\n",
              "      <td>0.91</td>\n",
              "      <td>1.71</td>\n",
              "      <td>0.01</td>\n",
              "    </tr>\n",
              "    <tr>\n",
              "      <th>Lars</th>\n",
              "      <td>0.90</td>\n",
              "      <td>0.91</td>\n",
              "      <td>1.71</td>\n",
              "      <td>0.03</td>\n",
              "    </tr>\n",
              "    <tr>\n",
              "      <th>RidgeCV</th>\n",
              "      <td>0.90</td>\n",
              "      <td>0.91</td>\n",
              "      <td>1.71</td>\n",
              "      <td>0.01</td>\n",
              "    </tr>\n",
              "    <tr>\n",
              "      <th>BayesianRidge</th>\n",
              "      <td>0.90</td>\n",
              "      <td>0.91</td>\n",
              "      <td>1.71</td>\n",
              "      <td>0.02</td>\n",
              "    </tr>\n",
              "    <tr>\n",
              "      <th>ElasticNetCV</th>\n",
              "      <td>0.90</td>\n",
              "      <td>0.91</td>\n",
              "      <td>1.71</td>\n",
              "      <td>0.09</td>\n",
              "    </tr>\n",
              "    <tr>\n",
              "      <th>Ridge</th>\n",
              "      <td>0.90</td>\n",
              "      <td>0.91</td>\n",
              "      <td>1.71</td>\n",
              "      <td>0.01</td>\n",
              "    </tr>\n",
              "    <tr>\n",
              "      <th>LassoLarsIC</th>\n",
              "      <td>0.90</td>\n",
              "      <td>0.90</td>\n",
              "      <td>1.72</td>\n",
              "      <td>0.01</td>\n",
              "    </tr>\n",
              "    <tr>\n",
              "      <th>KNeighborsRegressor</th>\n",
              "      <td>0.90</td>\n",
              "      <td>0.90</td>\n",
              "      <td>1.73</td>\n",
              "      <td>0.01</td>\n",
              "    </tr>\n",
              "    <tr>\n",
              "      <th>RANSACRegressor</th>\n",
              "      <td>0.89</td>\n",
              "      <td>0.90</td>\n",
              "      <td>1.73</td>\n",
              "      <td>0.02</td>\n",
              "    </tr>\n",
              "    <tr>\n",
              "      <th>DecisionTreeRegressor</th>\n",
              "      <td>0.88</td>\n",
              "      <td>0.89</td>\n",
              "      <td>1.84</td>\n",
              "      <td>0.01</td>\n",
              "    </tr>\n",
              "    <tr>\n",
              "      <th>PoissonRegressor</th>\n",
              "      <td>0.86</td>\n",
              "      <td>0.87</td>\n",
              "      <td>1.97</td>\n",
              "      <td>0.01</td>\n",
              "    </tr>\n",
              "    <tr>\n",
              "      <th>SVR</th>\n",
              "      <td>0.85</td>\n",
              "      <td>0.86</td>\n",
              "      <td>2.10</td>\n",
              "      <td>0.02</td>\n",
              "    </tr>\n",
              "    <tr>\n",
              "      <th>NuSVR</th>\n",
              "      <td>0.84</td>\n",
              "      <td>0.86</td>\n",
              "      <td>2.11</td>\n",
              "      <td>0.04</td>\n",
              "    </tr>\n",
              "    <tr>\n",
              "      <th>Lasso</th>\n",
              "      <td>0.81</td>\n",
              "      <td>0.82</td>\n",
              "      <td>2.34</td>\n",
              "      <td>0.03</td>\n",
              "    </tr>\n",
              "    <tr>\n",
              "      <th>OrthogonalMatchingPursuit</th>\n",
              "      <td>0.79</td>\n",
              "      <td>0.80</td>\n",
              "      <td>2.47</td>\n",
              "      <td>0.03</td>\n",
              "    </tr>\n",
              "    <tr>\n",
              "      <th>PassiveAggressiveRegressor</th>\n",
              "      <td>0.74</td>\n",
              "      <td>0.76</td>\n",
              "      <td>2.70</td>\n",
              "      <td>0.02</td>\n",
              "    </tr>\n",
              "    <tr>\n",
              "      <th>ElasticNet</th>\n",
              "      <td>0.72</td>\n",
              "      <td>0.74</td>\n",
              "      <td>2.84</td>\n",
              "      <td>0.01</td>\n",
              "    </tr>\n",
              "    <tr>\n",
              "      <th>GammaRegressor</th>\n",
              "      <td>0.66</td>\n",
              "      <td>0.69</td>\n",
              "      <td>3.09</td>\n",
              "      <td>0.01</td>\n",
              "    </tr>\n",
              "    <tr>\n",
              "      <th>GeneralizedLinearRegressor</th>\n",
              "      <td>0.65</td>\n",
              "      <td>0.68</td>\n",
              "      <td>3.16</td>\n",
              "      <td>0.02</td>\n",
              "    </tr>\n",
              "    <tr>\n",
              "      <th>TweedieRegressor</th>\n",
              "      <td>0.65</td>\n",
              "      <td>0.68</td>\n",
              "      <td>3.16</td>\n",
              "      <td>0.01</td>\n",
              "    </tr>\n",
              "    <tr>\n",
              "      <th>DummyRegressor</th>\n",
              "      <td>-0.12</td>\n",
              "      <td>-0.03</td>\n",
              "      <td>5.65</td>\n",
              "      <td>0.01</td>\n",
              "    </tr>\n",
              "    <tr>\n",
              "      <th>LassoLars</th>\n",
              "      <td>-0.12</td>\n",
              "      <td>-0.03</td>\n",
              "      <td>5.65</td>\n",
              "      <td>0.01</td>\n",
              "    </tr>\n",
              "    <tr>\n",
              "      <th>MLPRegressor</th>\n",
              "      <td>-0.59</td>\n",
              "      <td>-0.47</td>\n",
              "      <td>6.74</td>\n",
              "      <td>0.45</td>\n",
              "    </tr>\n",
              "    <tr>\n",
              "      <th>GaussianProcessRegressor</th>\n",
              "      <td>-6.79</td>\n",
              "      <td>-6.19</td>\n",
              "      <td>14.90</td>\n",
              "      <td>0.02</td>\n",
              "    </tr>\n",
              "    <tr>\n",
              "      <th>KernelRidge</th>\n",
              "      <td>-6.91</td>\n",
              "      <td>-6.30</td>\n",
              "      <td>15.02</td>\n",
              "      <td>0.02</td>\n",
              "    </tr>\n",
              "  </tbody>\n",
              "</table>\n",
              "</div>"
            ],
            "text/plain": [
              "                               Adjusted R-Squared  R-Squared  RMSE  Time Taken\n",
              "Model                                                                         \n",
              "ExtraTreesRegressor                          0.96       0.96  1.10        0.15\n",
              "GradientBoostingRegressor                    0.96       0.96  1.13        0.07\n",
              "RandomForestRegressor                        0.95       0.95  1.20        0.20\n",
              "XGBRegressor                                 0.95       0.95  1.21        0.15\n",
              "BaggingRegressor                             0.94       0.94  1.30        0.03\n",
              "AdaBoostRegressor                            0.94       0.94  1.34        0.09\n",
              "LGBMRegressor                                0.93       0.94  1.37        0.07\n",
              "HistGradientBoostingRegressor                0.93       0.94  1.39        0.11\n",
              "LinearSVR                                    0.90       0.91  1.66        0.01\n",
              "HuberRegressor                               0.90       0.91  1.67        0.02\n",
              "OrthogonalMatchingPursuitCV                  0.90       0.91  1.69        0.04\n",
              "SGDRegressor                                 0.90       0.91  1.70        0.01\n",
              "LassoCV                                      0.90       0.91  1.71        0.07\n",
              "ExtraTreeRegressor                           0.90       0.91  1.71        0.01\n",
              "LarsCV                                       0.90       0.91  1.71        0.05\n",
              "TransformedTargetRegressor                   0.90       0.91  1.71        0.01\n",
              "LassoLarsCV                                  0.90       0.91  1.71        0.02\n",
              "LinearRegression                             0.90       0.91  1.71        0.01\n",
              "Lars                                         0.90       0.91  1.71        0.03\n",
              "RidgeCV                                      0.90       0.91  1.71        0.01\n",
              "BayesianRidge                                0.90       0.91  1.71        0.02\n",
              "ElasticNetCV                                 0.90       0.91  1.71        0.09\n",
              "Ridge                                        0.90       0.91  1.71        0.01\n",
              "LassoLarsIC                                  0.90       0.90  1.72        0.01\n",
              "KNeighborsRegressor                          0.90       0.90  1.73        0.01\n",
              "RANSACRegressor                              0.89       0.90  1.73        0.02\n",
              "DecisionTreeRegressor                        0.88       0.89  1.84        0.01\n",
              "PoissonRegressor                             0.86       0.87  1.97        0.01\n",
              "SVR                                          0.85       0.86  2.10        0.02\n",
              "NuSVR                                        0.84       0.86  2.11        0.04\n",
              "Lasso                                        0.81       0.82  2.34        0.03\n",
              "OrthogonalMatchingPursuit                    0.79       0.80  2.47        0.03\n",
              "PassiveAggressiveRegressor                   0.74       0.76  2.70        0.02\n",
              "ElasticNet                                   0.72       0.74  2.84        0.01\n",
              "GammaRegressor                               0.66       0.69  3.09        0.01\n",
              "GeneralizedLinearRegressor                   0.65       0.68  3.16        0.02\n",
              "TweedieRegressor                             0.65       0.68  3.16        0.01\n",
              "DummyRegressor                              -0.12      -0.03  5.65        0.01\n",
              "LassoLars                                   -0.12      -0.03  5.65        0.01\n",
              "MLPRegressor                                -0.59      -0.47  6.74        0.45\n",
              "GaussianProcessRegressor                    -6.79      -6.19 14.90        0.02\n",
              "KernelRidge                                 -6.91      -6.30 15.02        0.02"
            ]
          },
          "metadata": {
            "tags": []
          },
          "execution_count": 11
        }
      ]
    },
    {
      "cell_type": "code",
      "metadata": {
        "id": "L0MEPlJbM4c0"
      },
      "source": [
        "from sklearn.datasets import load_iris"
      ],
      "execution_count": null,
      "outputs": []
    },
    {
      "cell_type": "code",
      "metadata": {
        "id": "15xg8_qwO2qh"
      },
      "source": [
        "dataset=load_iris()"
      ],
      "execution_count": null,
      "outputs": []
    },
    {
      "cell_type": "code",
      "metadata": {
        "colab": {
          "base_uri": "https://localhost:8080/"
        },
        "id": "iZiD1aLfO6Jk",
        "outputId": "e4414199-be62-4df1-9ad7-0722e36858ee"
      },
      "source": [
        "dataset.data[:5]"
      ],
      "execution_count": null,
      "outputs": [
        {
          "output_type": "execute_result",
          "data": {
            "text/plain": [
              "array([[5.1, 3.5, 1.4, 0.2],\n",
              "       [4.9, 3. , 1.4, 0.2],\n",
              "       [4.7, 3.2, 1.3, 0.2],\n",
              "       [4.6, 3.1, 1.5, 0.2],\n",
              "       [5. , 3.6, 1.4, 0.2]])"
            ]
          },
          "metadata": {
            "tags": []
          },
          "execution_count": 15
        }
      ]
    },
    {
      "cell_type": "code",
      "metadata": {
        "colab": {
          "base_uri": "https://localhost:8080/"
        },
        "id": "8qxdYgSKO89S",
        "outputId": "5706f117-b09b-4d55-af2b-af858d07f2ca"
      },
      "source": [
        "dataset.target[:5]"
      ],
      "execution_count": null,
      "outputs": [
        {
          "output_type": "execute_result",
          "data": {
            "text/plain": [
              "array([0, 0, 0, 0, 0])"
            ]
          },
          "metadata": {
            "tags": []
          },
          "execution_count": 16
        }
      ]
    },
    {
      "cell_type": "code",
      "metadata": {
        "id": "fdOf-iEjPB6R"
      },
      "source": [
        "X_train,X_test,y_train,y_test = train_test_split(dataset.data,dataset.target,test_size=0.2,random_state=42)"
      ],
      "execution_count": null,
      "outputs": []
    },
    {
      "cell_type": "code",
      "metadata": {
        "id": "TDm0NrdNPYDX"
      },
      "source": [
        "classifier = LazyClassifier(verbose=0,ignore_warnings=True,custom_metric=None,predictions=True)"
      ],
      "execution_count": null,
      "outputs": []
    },
    {
      "cell_type": "code",
      "metadata": {
        "colab": {
          "base_uri": "https://localhost:8080/"
        },
        "id": "TMeYBscNPp-q",
        "outputId": "b6597019-8b5c-4731-c11d-565c0eef1d5d"
      },
      "source": [
        "models2,pred2 = classifier.fit(X_train,X_test,y_train,y_test)"
      ],
      "execution_count": null,
      "outputs": [
        {
          "output_type": "stream",
          "text": [
            "100%|██████████| 29/29 [00:00<00:00, 32.07it/s]\n"
          ],
          "name": "stderr"
        }
      ]
    },
    {
      "cell_type": "code",
      "metadata": {
        "id": "BO-irGyMP5as",
        "colab": {
          "base_uri": "https://localhost:8080/",
          "height": 917
        },
        "outputId": "41edf925-602d-4175-a103-b757eda2b2db"
      },
      "source": [
        "models2"
      ],
      "execution_count": null,
      "outputs": [
        {
          "output_type": "execute_result",
          "data": {
            "text/html": [
              "<div>\n",
              "<style scoped>\n",
              "    .dataframe tbody tr th:only-of-type {\n",
              "        vertical-align: middle;\n",
              "    }\n",
              "\n",
              "    .dataframe tbody tr th {\n",
              "        vertical-align: top;\n",
              "    }\n",
              "\n",
              "    .dataframe thead th {\n",
              "        text-align: right;\n",
              "    }\n",
              "</style>\n",
              "<table border=\"1\" class=\"dataframe\">\n",
              "  <thead>\n",
              "    <tr style=\"text-align: right;\">\n",
              "      <th></th>\n",
              "      <th>Accuracy</th>\n",
              "      <th>Balanced Accuracy</th>\n",
              "      <th>ROC AUC</th>\n",
              "      <th>F1 Score</th>\n",
              "      <th>Time Taken</th>\n",
              "    </tr>\n",
              "    <tr>\n",
              "      <th>Model</th>\n",
              "      <th></th>\n",
              "      <th></th>\n",
              "      <th></th>\n",
              "      <th></th>\n",
              "      <th></th>\n",
              "    </tr>\n",
              "  </thead>\n",
              "  <tbody>\n",
              "    <tr>\n",
              "      <th>AdaBoostClassifier</th>\n",
              "      <td>1.00</td>\n",
              "      <td>1.00</td>\n",
              "      <td>None</td>\n",
              "      <td>1.00</td>\n",
              "      <td>0.10</td>\n",
              "    </tr>\n",
              "    <tr>\n",
              "      <th>LabelSpreading</th>\n",
              "      <td>1.00</td>\n",
              "      <td>1.00</td>\n",
              "      <td>None</td>\n",
              "      <td>1.00</td>\n",
              "      <td>0.02</td>\n",
              "    </tr>\n",
              "    <tr>\n",
              "      <th>XGBClassifier</th>\n",
              "      <td>1.00</td>\n",
              "      <td>1.00</td>\n",
              "      <td>None</td>\n",
              "      <td>1.00</td>\n",
              "      <td>0.03</td>\n",
              "    </tr>\n",
              "    <tr>\n",
              "      <th>SVC</th>\n",
              "      <td>1.00</td>\n",
              "      <td>1.00</td>\n",
              "      <td>None</td>\n",
              "      <td>1.00</td>\n",
              "      <td>0.01</td>\n",
              "    </tr>\n",
              "    <tr>\n",
              "      <th>SGDClassifier</th>\n",
              "      <td>1.00</td>\n",
              "      <td>1.00</td>\n",
              "      <td>None</td>\n",
              "      <td>1.00</td>\n",
              "      <td>0.01</td>\n",
              "    </tr>\n",
              "    <tr>\n",
              "      <th>RandomForestClassifier</th>\n",
              "      <td>1.00</td>\n",
              "      <td>1.00</td>\n",
              "      <td>None</td>\n",
              "      <td>1.00</td>\n",
              "      <td>0.15</td>\n",
              "    </tr>\n",
              "    <tr>\n",
              "      <th>PassiveAggressiveClassifier</th>\n",
              "      <td>1.00</td>\n",
              "      <td>1.00</td>\n",
              "      <td>None</td>\n",
              "      <td>1.00</td>\n",
              "      <td>0.02</td>\n",
              "    </tr>\n",
              "    <tr>\n",
              "      <th>NuSVC</th>\n",
              "      <td>1.00</td>\n",
              "      <td>1.00</td>\n",
              "      <td>None</td>\n",
              "      <td>1.00</td>\n",
              "      <td>0.02</td>\n",
              "    </tr>\n",
              "    <tr>\n",
              "      <th>LogisticRegression</th>\n",
              "      <td>1.00</td>\n",
              "      <td>1.00</td>\n",
              "      <td>None</td>\n",
              "      <td>1.00</td>\n",
              "      <td>0.04</td>\n",
              "    </tr>\n",
              "    <tr>\n",
              "      <th>BaggingClassifier</th>\n",
              "      <td>1.00</td>\n",
              "      <td>1.00</td>\n",
              "      <td>None</td>\n",
              "      <td>1.00</td>\n",
              "      <td>0.04</td>\n",
              "    </tr>\n",
              "    <tr>\n",
              "      <th>LinearDiscriminantAnalysis</th>\n",
              "      <td>1.00</td>\n",
              "      <td>1.00</td>\n",
              "      <td>None</td>\n",
              "      <td>1.00</td>\n",
              "      <td>0.02</td>\n",
              "    </tr>\n",
              "    <tr>\n",
              "      <th>LinearSVC</th>\n",
              "      <td>1.00</td>\n",
              "      <td>1.00</td>\n",
              "      <td>None</td>\n",
              "      <td>1.00</td>\n",
              "      <td>0.02</td>\n",
              "    </tr>\n",
              "    <tr>\n",
              "      <th>LabelPropagation</th>\n",
              "      <td>1.00</td>\n",
              "      <td>1.00</td>\n",
              "      <td>None</td>\n",
              "      <td>1.00</td>\n",
              "      <td>0.02</td>\n",
              "    </tr>\n",
              "    <tr>\n",
              "      <th>KNeighborsClassifier</th>\n",
              "      <td>1.00</td>\n",
              "      <td>1.00</td>\n",
              "      <td>None</td>\n",
              "      <td>1.00</td>\n",
              "      <td>0.02</td>\n",
              "    </tr>\n",
              "    <tr>\n",
              "      <th>GaussianNB</th>\n",
              "      <td>1.00</td>\n",
              "      <td>1.00</td>\n",
              "      <td>None</td>\n",
              "      <td>1.00</td>\n",
              "      <td>0.02</td>\n",
              "    </tr>\n",
              "    <tr>\n",
              "      <th>ExtraTreesClassifier</th>\n",
              "      <td>1.00</td>\n",
              "      <td>1.00</td>\n",
              "      <td>None</td>\n",
              "      <td>1.00</td>\n",
              "      <td>0.12</td>\n",
              "    </tr>\n",
              "    <tr>\n",
              "      <th>ExtraTreeClassifier</th>\n",
              "      <td>1.00</td>\n",
              "      <td>1.00</td>\n",
              "      <td>None</td>\n",
              "      <td>1.00</td>\n",
              "      <td>0.01</td>\n",
              "    </tr>\n",
              "    <tr>\n",
              "      <th>DecisionTreeClassifier</th>\n",
              "      <td>1.00</td>\n",
              "      <td>1.00</td>\n",
              "      <td>None</td>\n",
              "      <td>1.00</td>\n",
              "      <td>0.02</td>\n",
              "    </tr>\n",
              "    <tr>\n",
              "      <th>QuadraticDiscriminantAnalysis</th>\n",
              "      <td>0.97</td>\n",
              "      <td>0.96</td>\n",
              "      <td>None</td>\n",
              "      <td>0.97</td>\n",
              "      <td>0.02</td>\n",
              "    </tr>\n",
              "    <tr>\n",
              "      <th>CalibratedClassifierCV</th>\n",
              "      <td>0.97</td>\n",
              "      <td>0.96</td>\n",
              "      <td>None</td>\n",
              "      <td>0.97</td>\n",
              "      <td>0.05</td>\n",
              "    </tr>\n",
              "    <tr>\n",
              "      <th>Perceptron</th>\n",
              "      <td>0.93</td>\n",
              "      <td>0.94</td>\n",
              "      <td>None</td>\n",
              "      <td>0.93</td>\n",
              "      <td>0.01</td>\n",
              "    </tr>\n",
              "    <tr>\n",
              "      <th>LGBMClassifier</th>\n",
              "      <td>0.93</td>\n",
              "      <td>0.94</td>\n",
              "      <td>None</td>\n",
              "      <td>0.93</td>\n",
              "      <td>0.04</td>\n",
              "    </tr>\n",
              "    <tr>\n",
              "      <th>NearestCentroid</th>\n",
              "      <td>0.93</td>\n",
              "      <td>0.93</td>\n",
              "      <td>None</td>\n",
              "      <td>0.93</td>\n",
              "      <td>0.02</td>\n",
              "    </tr>\n",
              "    <tr>\n",
              "      <th>RidgeClassifier</th>\n",
              "      <td>0.90</td>\n",
              "      <td>0.90</td>\n",
              "      <td>None</td>\n",
              "      <td>0.90</td>\n",
              "      <td>0.01</td>\n",
              "    </tr>\n",
              "    <tr>\n",
              "      <th>RidgeClassifierCV</th>\n",
              "      <td>0.90</td>\n",
              "      <td>0.90</td>\n",
              "      <td>None</td>\n",
              "      <td>0.90</td>\n",
              "      <td>0.02</td>\n",
              "    </tr>\n",
              "    <tr>\n",
              "      <th>BernoulliNB</th>\n",
              "      <td>0.83</td>\n",
              "      <td>0.81</td>\n",
              "      <td>None</td>\n",
              "      <td>0.82</td>\n",
              "      <td>0.01</td>\n",
              "    </tr>\n",
              "    <tr>\n",
              "      <th>DummyClassifier</th>\n",
              "      <td>0.37</td>\n",
              "      <td>0.38</td>\n",
              "      <td>None</td>\n",
              "      <td>0.36</td>\n",
              "      <td>0.02</td>\n",
              "    </tr>\n",
              "  </tbody>\n",
              "</table>\n",
              "</div>"
            ],
            "text/plain": [
              "                               Accuracy  ...  Time Taken\n",
              "Model                                    ...            \n",
              "AdaBoostClassifier                 1.00  ...        0.10\n",
              "LabelSpreading                     1.00  ...        0.02\n",
              "XGBClassifier                      1.00  ...        0.03\n",
              "SVC                                1.00  ...        0.01\n",
              "SGDClassifier                      1.00  ...        0.01\n",
              "RandomForestClassifier             1.00  ...        0.15\n",
              "PassiveAggressiveClassifier        1.00  ...        0.02\n",
              "NuSVC                              1.00  ...        0.02\n",
              "LogisticRegression                 1.00  ...        0.04\n",
              "BaggingClassifier                  1.00  ...        0.04\n",
              "LinearDiscriminantAnalysis         1.00  ...        0.02\n",
              "LinearSVC                          1.00  ...        0.02\n",
              "LabelPropagation                   1.00  ...        0.02\n",
              "KNeighborsClassifier               1.00  ...        0.02\n",
              "GaussianNB                         1.00  ...        0.02\n",
              "ExtraTreesClassifier               1.00  ...        0.12\n",
              "ExtraTreeClassifier                1.00  ...        0.01\n",
              "DecisionTreeClassifier             1.00  ...        0.02\n",
              "QuadraticDiscriminantAnalysis      0.97  ...        0.02\n",
              "CalibratedClassifierCV             0.97  ...        0.05\n",
              "Perceptron                         0.93  ...        0.01\n",
              "LGBMClassifier                     0.93  ...        0.04\n",
              "NearestCentroid                    0.93  ...        0.02\n",
              "RidgeClassifier                    0.90  ...        0.01\n",
              "RidgeClassifierCV                  0.90  ...        0.02\n",
              "BernoulliNB                        0.83  ...        0.01\n",
              "DummyClassifier                    0.37  ...        0.02\n",
              "\n",
              "[27 rows x 5 columns]"
            ]
          },
          "metadata": {
            "tags": []
          },
          "execution_count": 21
        }
      ]
    },
    {
      "cell_type": "code",
      "metadata": {
        "id": "MnP7yGoFP7Gz"
      },
      "source": [
        ""
      ],
      "execution_count": null,
      "outputs": []
    }
  ]
}